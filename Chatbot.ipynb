{
  "nbformat": 4,
  "nbformat_minor": 0,
  "metadata": {
    "colab": {
      "name": "Chatbot.ipynb",
      "provenance": []
    },
    "kernelspec": {
      "name": "python3",
      "display_name": "Python 3"
    }
  },
  "cells": [
    {
      "cell_type": "code",
      "metadata": {
        "id": "FY9lxVVe_K_J",
        "colab_type": "code",
        "colab": {}
      },
      "source": [
        "#Self Learning Chatbot"
      ],
      "execution_count": 0,
      "outputs": []
    },
    {
      "cell_type": "code",
      "metadata": {
        "id": "l8sltQJJ_Oge",
        "colab_type": "code",
        "colab": {}
      },
      "source": [
        "#Install Package NLTK(Natural Language Toolkit)\n",
        "# ! It tells the notebook cell that this line is not a Python code, its a command line script.\n",
        "!pip install nltk"
      ],
      "execution_count": 0,
      "outputs": []
    },
    {
      "cell_type": "code",
      "metadata": {
        "id": "HDGOjT_JAmNF",
        "colab_type": "code",
        "colab": {}
      },
      "source": [
        "#Install newspaper3k, it's a Article Scraping and Curation\n",
        "!pip install newspaper3k"
      ],
      "execution_count": 0,
      "outputs": []
    },
    {
      "cell_type": "code",
      "metadata": {
        "id": "d1ERBZX2BHCG",
        "colab_type": "code",
        "colab": {}
      },
      "source": [
        "from newspaper import Article\n",
        "import random\n",
        "import string\n",
        "from sklearn.feature_extraction.text import TfidfVectorizer\n",
        "from sklearn.metrics.pairwise import cosine_similarity\n",
        "import nltk\n",
        "import numpy as np\n",
        "import warnings"
      ],
      "execution_count": 0,
      "outputs": []
    },
    {
      "cell_type": "code",
      "metadata": {
        "id": "0r_V59yzEZm9",
        "colab_type": "code",
        "colab": {}
      },
      "source": [
        "#Ignore Warning Messages\n",
        "warnings.filterwarnings('ignore')"
      ],
      "execution_count": 0,
      "outputs": []
    },
    {
      "cell_type": "code",
      "metadata": {
        "id": "k8DlRkjEEtFf",
        "colab_type": "code",
        "outputId": "6c083be9-1331-4397-cc29-49285fb21b6a",
        "colab": {
          "base_uri": "https://localhost:8080/",
          "height": 34
        }
      },
      "source": [
        "#Download Packages from NLTK\n",
        "nltk.download('punkt', quiet=True)\n",
        "nltk.download('wordnet', quiet=True)"
      ],
      "execution_count": 6,
      "outputs": [
        {
          "output_type": "execute_result",
          "data": {
            "text/plain": [
              "True"
            ]
          },
          "metadata": {
            "tags": []
          },
          "execution_count": 6
        }
      ]
    },
    {
      "cell_type": "code",
      "metadata": {
        "id": "ikIOzVjMFSpl",
        "colab_type": "code",
        "outputId": "0e2c433d-5a2e-471b-e17e-aaeff92367c4",
        "colab": {
          "base_uri": "https://localhost:8080/",
          "height": 1000
        }
      },
      "source": [
        "#Get Article URL\n",
        "article = Article('https://www.mayoclinic.org/diseases-conditions/chronic-kidney-disease/symptoms-causes/syc-20354521')\n",
        "article.download()\n",
        "article.parse()\n",
        "article.nlp()\n",
        "corpus = article.text\n",
        "\n",
        "print(corpus)"
      ],
      "execution_count": 7,
      "outputs": [
        {
          "output_type": "stream",
          "text": [
            "Overview\n",
            "\n",
            "Chronic kidney disease, also called chronic kidney failure, describes the gradual loss of kidney function. Your kidneys filter wastes and excess fluids from your blood, which are then excreted in your urine. When chronic kidney disease reaches an advanced stage, dangerous levels of fluid, electrolytes and wastes can build up in your body.\n",
            "\n",
            "In the early stages of chronic kidney disease, you may have few signs or symptoms. Chronic kidney disease may not become apparent until your kidney function is significantly impaired.\n",
            "\n",
            "Treatment for chronic kidney disease focuses on slowing the progression of the kidney damage, usually by controlling the underlying cause. Chronic kidney disease can progress to end-stage kidney failure, which is fatal without artificial filtering (dialysis) or a kidney transplant.\n",
            "\n",
            "Chronic kidney disease care at Mayo Clinic\n",
            "\n",
            "How kidneys work\n",
            "\n",
            "Symptoms\n",
            "\n",
            "Signs and symptoms of chronic kidney disease develop over time if kidney damage progresses slowly. Signs and symptoms of kidney disease may include:\n",
            "\n",
            "Nausea\n",
            "\n",
            "Vomiting\n",
            "\n",
            "Loss of appetite\n",
            "\n",
            "Fatigue and weakness\n",
            "\n",
            "Sleep problems\n",
            "\n",
            "Changes in how much you urinate\n",
            "\n",
            "Decreased mental sharpness\n",
            "\n",
            "Muscle twitches and cramps\n",
            "\n",
            "Swelling of feet and ankles\n",
            "\n",
            "Persistent itching\n",
            "\n",
            "Chest pain, if fluid builds up around the lining of the heart\n",
            "\n",
            "Shortness of breath, if fluid builds up in the lungs\n",
            "\n",
            "High blood pressure (hypertension) that's difficult to control\n",
            "\n",
            "Signs and symptoms of kidney disease are often nonspecific, meaning they can also be caused by other illnesses. Because your kidneys are highly adaptable and able to compensate for lost function, signs and symptoms may not appear until irreversible damage has occurred.\n",
            "\n",
            "When to see a doctor\n",
            "\n",
            "Make an appointment with your doctor if you have any signs or symptoms of kidney disease.\n",
            "\n",
            "If you have a medical condition that increases your risk of kidney disease, your doctor is likely to monitor your blood pressure and kidney function with urine and blood tests during regular office visits. Ask your doctor whether these tests are necessary for you.\n",
            "\n",
            "Causes\n",
            "\n",
            "Normal kidney vs. diseased kidney Open pop-up dialog box Close Normal kidney vs. diseased kidney Normal kidney vs. diseased kidney A normal kidney has about 1 million filtering units. Each unit, called a glomerulus, connects to a tubule, which collects urine. Conditions such as high blood pressure and diabetes take a toll on kidney function by damaging these filtering units and collecting tubules and causing scarring.\n",
            "\n",
            "Polycystic kidney Open pop-up dialog box Close Polycystic kidney Polycystic kidney A healthy kidney (left) eliminates waste from the blood and maintains the body's normal chemical balance. Fluid-filled sacs (right), called cysts, characterize polycystic kidney disease.\n",
            "\n",
            "Chronic kidney disease occurs when a disease or condition impairs kidney function, causing kidney damage to worsen over several months or years.\n",
            "\n",
            "Diseases and conditions that cause chronic kidney disease include:\n",
            "\n",
            "Type 1 or type 2 diabetes\n",
            "\n",
            "High blood pressure\n",
            "\n",
            "Glomerulonephritis (gloe-mer-u-low-nuh-FRY-tis), an inflammation of the kidney's filtering units (glomeruli)\n",
            "\n",
            "Interstitial nephritis (in-tur-STISH-ul nuh-FRY-tis), an inflammation of the kidney's tubules and surrounding structures\n",
            "\n",
            "Polycystic kidney disease\n",
            "\n",
            "Prolonged obstruction of the urinary tract, from conditions such as enlarged prostate, kidney stones and some cancers\n",
            "\n",
            "Vesicoureteral (ves-ih-koe-yoo-REE-tur-ul) reflux, a condition that causes urine to back up into your kidneys\n",
            "\n",
            "Recurrent kidney infection, also called pyelonephritis (pie-uh-low-nuh-FRY-tis)\n",
            "\n",
            "Risk factors\n",
            "\n",
            "Factors that may increase your risk of chronic kidney disease include:\n",
            "\n",
            "Diabetes\n",
            "\n",
            "High blood pressure\n",
            "\n",
            "Heart and blood vessel (cardiovascular) disease\n",
            "\n",
            "Smoking\n",
            "\n",
            "Obesity\n",
            "\n",
            "Being African-American, Native American or Asian-American\n",
            "\n",
            "Family history of kidney disease\n",
            "\n",
            "Abnormal kidney structure\n",
            "\n",
            "Older age\n",
            "\n",
            "Complications\n",
            "\n",
            "Chronic kidney disease can affect almost every part of your body. Potential complications may include:\n",
            "\n",
            "Fluid retention, which could lead to swelling in your arms and legs, high blood pressure, or fluid in your lungs (pulmonary edema)\n",
            "\n",
            "A sudden rise in potassium levels in your blood (hyperkalemia), which could impair your heart's ability to function and may be life-threatening\n",
            "\n",
            "Heart and blood vessel (cardiovascular) disease\n",
            "\n",
            "Weak bones and an increased risk of bone fractures\n",
            "\n",
            "Anemia\n",
            "\n",
            "Decreased sex drive, erectile dysfunction or reduced fertility\n",
            "\n",
            "Damage to your central nervous system, which can cause difficulty concentrating, personality changes or seizures\n",
            "\n",
            "Decreased immune response, which makes you more vulnerable to infection\n",
            "\n",
            "Pericarditis, an inflammation of the saclike membrane that envelops your heart (pericardium)\n",
            "\n",
            "Pregnancy complications that carry risks for the mother and the developing fetus\n",
            "\n",
            "Irreversible damage to your kidneys (end-stage kidney disease), eventually requiring either dialysis or a kidney transplant for survival\n",
            "\n",
            "Prevention\n",
            "\n",
            "To reduce your risk of developing kidney disease:\n"
          ],
          "name": "stdout"
        }
      ]
    },
    {
      "cell_type": "code",
      "metadata": {
        "id": "4hWt3YwcHzcv",
        "colab_type": "code",
        "outputId": "769127e8-d182-46c0-9a7a-7b5e62a1d9cd",
        "colab": {
          "base_uri": "https://localhost:8080/",
          "height": 54
        }
      },
      "source": [
        "#Tokenization\n",
        "text = corpus\n",
        "#Converting text into list of sentences\n",
        "sent_tokens = nltk.sent_tokenize(text)\n",
        "print(sent_tokens)"
      ],
      "execution_count": 8,
      "outputs": [
        {
          "output_type": "stream",
          "text": [
            "['Overview\\n\\nChronic kidney disease, also called chronic kidney failure, describes the gradual loss of kidney function.', 'Your kidneys filter wastes and excess fluids from your blood, which are then excreted in your urine.', 'When chronic kidney disease reaches an advanced stage, dangerous levels of fluid, electrolytes and wastes can build up in your body.', 'In the early stages of chronic kidney disease, you may have few signs or symptoms.', 'Chronic kidney disease may not become apparent until your kidney function is significantly impaired.', 'Treatment for chronic kidney disease focuses on slowing the progression of the kidney damage, usually by controlling the underlying cause.', 'Chronic kidney disease can progress to end-stage kidney failure, which is fatal without artificial filtering (dialysis) or a kidney transplant.', 'Chronic kidney disease care at Mayo Clinic\\n\\nHow kidneys work\\n\\nSymptoms\\n\\nSigns and symptoms of chronic kidney disease develop over time if kidney damage progresses slowly.', \"Signs and symptoms of kidney disease may include:\\n\\nNausea\\n\\nVomiting\\n\\nLoss of appetite\\n\\nFatigue and weakness\\n\\nSleep problems\\n\\nChanges in how much you urinate\\n\\nDecreased mental sharpness\\n\\nMuscle twitches and cramps\\n\\nSwelling of feet and ankles\\n\\nPersistent itching\\n\\nChest pain, if fluid builds up around the lining of the heart\\n\\nShortness of breath, if fluid builds up in the lungs\\n\\nHigh blood pressure (hypertension) that's difficult to control\\n\\nSigns and symptoms of kidney disease are often nonspecific, meaning they can also be caused by other illnesses.\", 'Because your kidneys are highly adaptable and able to compensate for lost function, signs and symptoms may not appear until irreversible damage has occurred.', 'When to see a doctor\\n\\nMake an appointment with your doctor if you have any signs or symptoms of kidney disease.', 'If you have a medical condition that increases your risk of kidney disease, your doctor is likely to monitor your blood pressure and kidney function with urine and blood tests during regular office visits.', 'Ask your doctor whether these tests are necessary for you.', 'Causes\\n\\nNormal kidney vs. diseased kidney Open pop-up dialog box Close Normal kidney vs. diseased kidney Normal kidney vs. diseased kidney A normal kidney has about 1 million filtering units.', 'Each unit, called a glomerulus, connects to a tubule, which collects urine.', 'Conditions such as high blood pressure and diabetes take a toll on kidney function by damaging these filtering units and collecting tubules and causing scarring.', \"Polycystic kidney Open pop-up dialog box Close Polycystic kidney Polycystic kidney A healthy kidney (left) eliminates waste from the blood and maintains the body's normal chemical balance.\", 'Fluid-filled sacs (right), called cysts, characterize polycystic kidney disease.', 'Chronic kidney disease occurs when a disease or condition impairs kidney function, causing kidney damage to worsen over several months or years.', \"Diseases and conditions that cause chronic kidney disease include:\\n\\nType 1 or type 2 diabetes\\n\\nHigh blood pressure\\n\\nGlomerulonephritis (gloe-mer-u-low-nuh-FRY-tis), an inflammation of the kidney's filtering units (glomeruli)\\n\\nInterstitial nephritis (in-tur-STISH-ul nuh-FRY-tis), an inflammation of the kidney's tubules and surrounding structures\\n\\nPolycystic kidney disease\\n\\nProlonged obstruction of the urinary tract, from conditions such as enlarged prostate, kidney stones and some cancers\\n\\nVesicoureteral (ves-ih-koe-yoo-REE-tur-ul) reflux, a condition that causes urine to back up into your kidneys\\n\\nRecurrent kidney infection, also called pyelonephritis (pie-uh-low-nuh-FRY-tis)\\n\\nRisk factors\\n\\nFactors that may increase your risk of chronic kidney disease include:\\n\\nDiabetes\\n\\nHigh blood pressure\\n\\nHeart and blood vessel (cardiovascular) disease\\n\\nSmoking\\n\\nObesity\\n\\nBeing African-American, Native American or Asian-American\\n\\nFamily history of kidney disease\\n\\nAbnormal kidney structure\\n\\nOlder age\\n\\nComplications\\n\\nChronic kidney disease can affect almost every part of your body.\", \"Potential complications may include:\\n\\nFluid retention, which could lead to swelling in your arms and legs, high blood pressure, or fluid in your lungs (pulmonary edema)\\n\\nA sudden rise in potassium levels in your blood (hyperkalemia), which could impair your heart's ability to function and may be life-threatening\\n\\nHeart and blood vessel (cardiovascular) disease\\n\\nWeak bones and an increased risk of bone fractures\\n\\nAnemia\\n\\nDecreased sex drive, erectile dysfunction or reduced fertility\\n\\nDamage to your central nervous system, which can cause difficulty concentrating, personality changes or seizures\\n\\nDecreased immune response, which makes you more vulnerable to infection\\n\\nPericarditis, an inflammation of the saclike membrane that envelops your heart (pericardium)\\n\\nPregnancy complications that carry risks for the mother and the developing fetus\\n\\nIrreversible damage to your kidneys (end-stage kidney disease), eventually requiring either dialysis or a kidney transplant for survival\\n\\nPrevention\\n\\nTo reduce your risk of developing kidney disease:\"]\n"
          ],
          "name": "stdout"
        }
      ]
    },
    {
      "cell_type": "code",
      "metadata": {
        "id": "W8t3P1TLInfW",
        "colab_type": "code",
        "outputId": "4f052bf5-6bf7-4e87-e488-ac13a2b86185",
        "colab": {
          "base_uri": "https://localhost:8080/",
          "height": 71
        }
      },
      "source": [
        "#Create Dictionary(key:value) to remove punctuations\n",
        "remove_punct_dict = dict( (ord(punct), None) for punct in string.punctuation)\n",
        "#Print Punctuation\n",
        "print(string.punctuation)\n",
        "#Print Dictionary\n",
        "print(remove_punct_dict)"
      ],
      "execution_count": 9,
      "outputs": [
        {
          "output_type": "stream",
          "text": [
            "!\"#$%&'()*+,-./:;<=>?@[\\]^_`{|}~\n",
            "{33: None, 34: None, 35: None, 36: None, 37: None, 38: None, 39: None, 40: None, 41: None, 42: None, 43: None, 44: None, 45: None, 46: None, 47: None, 58: None, 59: None, 60: None, 61: None, 62: None, 63: None, 64: None, 91: None, 92: None, 93: None, 94: None, 95: None, 96: None, 123: None, 124: None, 125: None, 126: None}\n"
          ],
          "name": "stdout"
        }
      ]
    },
    {
      "cell_type": "code",
      "metadata": {
        "id": "5an7SCNfKVm7",
        "colab_type": "code",
        "outputId": "17757545-3f5c-4851-a96c-ac8745333de9",
        "colab": {
          "base_uri": "https://localhost:8080/",
          "height": 54
        }
      },
      "source": [
        "#Create a function to return list of limitised lower case after removing punctuations\n",
        "def LemNormalize(text):\n",
        "  return nltk.word_tokenize(text.lower().translate(remove_punct_dict))  #remove_punct_dict to remove punctuation\n",
        "\n",
        "print(LemNormalize(text))"
      ],
      "execution_count": 10,
      "outputs": [
        {
          "output_type": "stream",
          "text": [
            "['overview', 'chronic', 'kidney', 'disease', 'also', 'called', 'chronic', 'kidney', 'failure', 'describes', 'the', 'gradual', 'loss', 'of', 'kidney', 'function', 'your', 'kidneys', 'filter', 'wastes', 'and', 'excess', 'fluids', 'from', 'your', 'blood', 'which', 'are', 'then', 'excreted', 'in', 'your', 'urine', 'when', 'chronic', 'kidney', 'disease', 'reaches', 'an', 'advanced', 'stage', 'dangerous', 'levels', 'of', 'fluid', 'electrolytes', 'and', 'wastes', 'can', 'build', 'up', 'in', 'your', 'body', 'in', 'the', 'early', 'stages', 'of', 'chronic', 'kidney', 'disease', 'you', 'may', 'have', 'few', 'signs', 'or', 'symptoms', 'chronic', 'kidney', 'disease', 'may', 'not', 'become', 'apparent', 'until', 'your', 'kidney', 'function', 'is', 'significantly', 'impaired', 'treatment', 'for', 'chronic', 'kidney', 'disease', 'focuses', 'on', 'slowing', 'the', 'progression', 'of', 'the', 'kidney', 'damage', 'usually', 'by', 'controlling', 'the', 'underlying', 'cause', 'chronic', 'kidney', 'disease', 'can', 'progress', 'to', 'endstage', 'kidney', 'failure', 'which', 'is', 'fatal', 'without', 'artificial', 'filtering', 'dialysis', 'or', 'a', 'kidney', 'transplant', 'chronic', 'kidney', 'disease', 'care', 'at', 'mayo', 'clinic', 'how', 'kidneys', 'work', 'symptoms', 'signs', 'and', 'symptoms', 'of', 'chronic', 'kidney', 'disease', 'develop', 'over', 'time', 'if', 'kidney', 'damage', 'progresses', 'slowly', 'signs', 'and', 'symptoms', 'of', 'kidney', 'disease', 'may', 'include', 'nausea', 'vomiting', 'loss', 'of', 'appetite', 'fatigue', 'and', 'weakness', 'sleep', 'problems', 'changes', 'in', 'how', 'much', 'you', 'urinate', 'decreased', 'mental', 'sharpness', 'muscle', 'twitches', 'and', 'cramps', 'swelling', 'of', 'feet', 'and', 'ankles', 'persistent', 'itching', 'chest', 'pain', 'if', 'fluid', 'builds', 'up', 'around', 'the', 'lining', 'of', 'the', 'heart', 'shortness', 'of', 'breath', 'if', 'fluid', 'builds', 'up', 'in', 'the', 'lungs', 'high', 'blood', 'pressure', 'hypertension', 'thats', 'difficult', 'to', 'control', 'signs', 'and', 'symptoms', 'of', 'kidney', 'disease', 'are', 'often', 'nonspecific', 'meaning', 'they', 'can', 'also', 'be', 'caused', 'by', 'other', 'illnesses', 'because', 'your', 'kidneys', 'are', 'highly', 'adaptable', 'and', 'able', 'to', 'compensate', 'for', 'lost', 'function', 'signs', 'and', 'symptoms', 'may', 'not', 'appear', 'until', 'irreversible', 'damage', 'has', 'occurred', 'when', 'to', 'see', 'a', 'doctor', 'make', 'an', 'appointment', 'with', 'your', 'doctor', 'if', 'you', 'have', 'any', 'signs', 'or', 'symptoms', 'of', 'kidney', 'disease', 'if', 'you', 'have', 'a', 'medical', 'condition', 'that', 'increases', 'your', 'risk', 'of', 'kidney', 'disease', 'your', 'doctor', 'is', 'likely', 'to', 'monitor', 'your', 'blood', 'pressure', 'and', 'kidney', 'function', 'with', 'urine', 'and', 'blood', 'tests', 'during', 'regular', 'office', 'visits', 'ask', 'your', 'doctor', 'whether', 'these', 'tests', 'are', 'necessary', 'for', 'you', 'causes', 'normal', 'kidney', 'vs', 'diseased', 'kidney', 'open', 'popup', 'dialog', 'box', 'close', 'normal', 'kidney', 'vs', 'diseased', 'kidney', 'normal', 'kidney', 'vs', 'diseased', 'kidney', 'a', 'normal', 'kidney', 'has', 'about', '1', 'million', 'filtering', 'units', 'each', 'unit', 'called', 'a', 'glomerulus', 'connects', 'to', 'a', 'tubule', 'which', 'collects', 'urine', 'conditions', 'such', 'as', 'high', 'blood', 'pressure', 'and', 'diabetes', 'take', 'a', 'toll', 'on', 'kidney', 'function', 'by', 'damaging', 'these', 'filtering', 'units', 'and', 'collecting', 'tubules', 'and', 'causing', 'scarring', 'polycystic', 'kidney', 'open', 'popup', 'dialog', 'box', 'close', 'polycystic', 'kidney', 'polycystic', 'kidney', 'a', 'healthy', 'kidney', 'left', 'eliminates', 'waste', 'from', 'the', 'blood', 'and', 'maintains', 'the', 'bodys', 'normal', 'chemical', 'balance', 'fluidfilled', 'sacs', 'right', 'called', 'cysts', 'characterize', 'polycystic', 'kidney', 'disease', 'chronic', 'kidney', 'disease', 'occurs', 'when', 'a', 'disease', 'or', 'condition', 'impairs', 'kidney', 'function', 'causing', 'kidney', 'damage', 'to', 'worsen', 'over', 'several', 'months', 'or', 'years', 'diseases', 'and', 'conditions', 'that', 'cause', 'chronic', 'kidney', 'disease', 'include', 'type', '1', 'or', 'type', '2', 'diabetes', 'high', 'blood', 'pressure', 'glomerulonephritis', 'gloemerulownuhfrytis', 'an', 'inflammation', 'of', 'the', 'kidneys', 'filtering', 'units', 'glomeruli', 'interstitial', 'nephritis', 'inturstishul', 'nuhfrytis', 'an', 'inflammation', 'of', 'the', 'kidneys', 'tubules', 'and', 'surrounding', 'structures', 'polycystic', 'kidney', 'disease', 'prolonged', 'obstruction', 'of', 'the', 'urinary', 'tract', 'from', 'conditions', 'such', 'as', 'enlarged', 'prostate', 'kidney', 'stones', 'and', 'some', 'cancers', 'vesicoureteral', 'vesihkoeyooreeturul', 'reflux', 'a', 'condition', 'that', 'causes', 'urine', 'to', 'back', 'up', 'into', 'your', 'kidneys', 'recurrent', 'kidney', 'infection', 'also', 'called', 'pyelonephritis', 'pieuhlownuhfrytis', 'risk', 'factors', 'factors', 'that', 'may', 'increase', 'your', 'risk', 'of', 'chronic', 'kidney', 'disease', 'include', 'diabetes', 'high', 'blood', 'pressure', 'heart', 'and', 'blood', 'vessel', 'cardiovascular', 'disease', 'smoking', 'obesity', 'being', 'africanamerican', 'native', 'american', 'or', 'asianamerican', 'family', 'history', 'of', 'kidney', 'disease', 'abnormal', 'kidney', 'structure', 'older', 'age', 'complications', 'chronic', 'kidney', 'disease', 'can', 'affect', 'almost', 'every', 'part', 'of', 'your', 'body', 'potential', 'complications', 'may', 'include', 'fluid', 'retention', 'which', 'could', 'lead', 'to', 'swelling', 'in', 'your', 'arms', 'and', 'legs', 'high', 'blood', 'pressure', 'or', 'fluid', 'in', 'your', 'lungs', 'pulmonary', 'edema', 'a', 'sudden', 'rise', 'in', 'potassium', 'levels', 'in', 'your', 'blood', 'hyperkalemia', 'which', 'could', 'impair', 'your', 'hearts', 'ability', 'to', 'function', 'and', 'may', 'be', 'lifethreatening', 'heart', 'and', 'blood', 'vessel', 'cardiovascular', 'disease', 'weak', 'bones', 'and', 'an', 'increased', 'risk', 'of', 'bone', 'fractures', 'anemia', 'decreased', 'sex', 'drive', 'erectile', 'dysfunction', 'or', 'reduced', 'fertility', 'damage', 'to', 'your', 'central', 'nervous', 'system', 'which', 'can', 'cause', 'difficulty', 'concentrating', 'personality', 'changes', 'or', 'seizures', 'decreased', 'immune', 'response', 'which', 'makes', 'you', 'more', 'vulnerable', 'to', 'infection', 'pericarditis', 'an', 'inflammation', 'of', 'the', 'saclike', 'membrane', 'that', 'envelops', 'your', 'heart', 'pericardium', 'pregnancy', 'complications', 'that', 'carry', 'risks', 'for', 'the', 'mother', 'and', 'the', 'developing', 'fetus', 'irreversible', 'damage', 'to', 'your', 'kidneys', 'endstage', 'kidney', 'disease', 'eventually', 'requiring', 'either', 'dialysis', 'or', 'a', 'kidney', 'transplant', 'for', 'survival', 'prevention', 'to', 'reduce', 'your', 'risk', 'of', 'developing', 'kidney', 'disease']\n"
          ],
          "name": "stdout"
        }
      ]
    },
    {
      "cell_type": "code",
      "metadata": {
        "id": "feb7yQZ_L7An",
        "colab_type": "code",
        "colab": {}
      },
      "source": [
        "#Keyword Matching\n",
        "#Greeting Input\n",
        "GREETING_INPUTS = [\"hi\", \"hello\", \"greetings\", \"wassup?\", \"hey\"]\n",
        "#Greeting Response\n",
        "GREETING_RESPONSES = [\"hi\", \"hello\", \"greetings\", \"how you doing?\", \"hey\"]\n",
        "#Response to User Greeting\n",
        "def greeting(sentence):\n",
        "  for word in sentence.split():\n",
        "    if word.lower() in GREETING_INPUTS:\n",
        "      return random.choice(GREETING_RESPONSES)"
      ],
      "execution_count": 0,
      "outputs": []
    },
    {
      "cell_type": "code",
      "metadata": {
        "id": "xYA1isN5gQw6",
        "colab_type": "code",
        "colab": {}
      },
      "source": [
        ""
      ],
      "execution_count": 0,
      "outputs": []
    },
    {
      "cell_type": "code",
      "metadata": {
        "id": "8rUy6uOTOGhU",
        "colab_type": "code",
        "colab": {}
      },
      "source": [
        "#Generate the response\n",
        "def response(user_response):\n",
        "\n",
        "\n",
        "  #User response/query\n",
        "  #user_response = 'What is chronic kidney disease'\n",
        "  #Makes user response lower case \n",
        "  user_response = user_response.lower()\n",
        "\n",
        "  #print(user_response)\n",
        "  #set chatbot response in empty string\n",
        "  robo_response = ''\n",
        "\n",
        "  #append user response to sentence list\n",
        "  sent_tokens.append(user_response)\n",
        "  #print(sent_tokens)\n",
        "  #Create TfidfVectorizer (term frequency–inverse document frequency) object\n",
        "  TfidfVec = TfidfVectorizer(tokenizer = LemNormalize, stop_words ='english')\n",
        "\n",
        "  #Convert text to matrix TF-IDF feature\n",
        "  tfidf = TfidfVec.fit_transform(sent_tokens)\n",
        "  #print(tfidf)\n",
        "  #Get the measure of similarity \n",
        "  vals = cosine_similarity(tfidf[-1], tfidf)\n",
        "  #vals value between 0&1\n",
        "  #print(vals)\n",
        "  #Get the index of the most similar text/sentence to the user response\n",
        "  idx = vals.argsort()[0][-2]\n",
        "\n",
        "  #Reduce the dimensionality of vals\n",
        "  flat = vals.flatten()\n",
        "  flat.sort() #sort list in ascending order\n",
        "\n",
        "  #Get most similar score to the users response \n",
        "  score = flat[-2]\n",
        "  #print(score)\n",
        "\n",
        "  #If variable 'score' is 0 then their is no text similar to the user response\n",
        "  if(score == 0):\n",
        "    robo_response = robo_response+\"I am Sorry, I don't Understand Anything!\"\n",
        "  else:\n",
        "    robo_response = robo_response+sent_tokens[idx]\n",
        "\n",
        "  #Remove user response from sentence token list\n",
        "  sent_tokens.remove(user_response)\n",
        "  #print(robo_response)\n",
        "  return robo_response\n",
        "\n",
        "\n"
      ],
      "execution_count": 0,
      "outputs": []
    },
    {
      "cell_type": "code",
      "metadata": {
        "id": "phljw68oaSeZ",
        "colab_type": "code",
        "outputId": "d1590891-2d27-4df9-8bdf-616670983811",
        "colab": {
          "base_uri": "https://localhost:8080/",
          "height": 680
        }
      },
      "source": [
        "flag = True\n",
        "print(\"Hello, I am DocBot for Chronic Kidney Disease. If you want to exit, type Bye! \")\n",
        "while(flag == True):\n",
        "  user_response = input()\n",
        "  user_response = user_response.lower()\n",
        "  if(user_response != 'bye'):\n",
        "    if(user_response == 'thanks' or user_response == 'thank you'):  \n",
        "      flag = False\n",
        "      print(\"DocBot: You are Welcome!\")\n",
        "    else:\n",
        "      if(greeting(user_response) != None):\n",
        "        print(\"DocBot:\"+ greeting(user_response))\n",
        "      else:\n",
        "        print(\"DocBot:\" +response(user_response))\n",
        "        \n",
        "  else:\n",
        "    flag = False\n",
        "    print(\"DocBot: Will chat with you later!\")"
      ],
      "execution_count": 21,
      "outputs": [
        {
          "output_type": "stream",
          "text": [
            "Hello, I am DocBot for Chronic Kidney Disease. If you want to exit, type Bye! \n",
            "hi\n",
            "DocBot:hello\n",
            "hello\n",
            "DocBot:how you doing?\n",
            "what is chronic kidney disease?\n",
            "DocBot:Overview\n",
            "\n",
            "Chronic kidney disease, also called chronic kidney failure, describes the gradual loss of kidney function.\n",
            "what are potential complications?\n",
            "DocBot:Potential complications may include:\n",
            "\n",
            "Fluid retention, which could lead to swelling in your arms and legs, high blood pressure, or fluid in your lungs (pulmonary edema)\n",
            "\n",
            "A sudden rise in potassium levels in your blood (hyperkalemia), which could impair your heart's ability to function and may be life-threatening\n",
            "\n",
            "Heart and blood vessel (cardiovascular) disease\n",
            "\n",
            "Weak bones and an increased risk of bone fractures\n",
            "\n",
            "Anemia\n",
            "\n",
            "Decreased sex drive, erectile dysfunction or reduced fertility\n",
            "\n",
            "Damage to your central nervous system, which can cause difficulty concentrating, personality changes or seizures\n",
            "\n",
            "Decreased immune response, which makes you more vulnerable to infection\n",
            "\n",
            "Pericarditis, an inflammation of the saclike membrane that envelops your heart (pericardium)\n",
            "\n",
            "Pregnancy complications that carry risks for the mother and the developing fetus\n",
            "\n",
            "Irreversible damage to your kidneys (end-stage kidney disease), eventually requiring either dialysis or a kidney transplant for survival\n",
            "\n",
            "Prevention\n",
            "\n",
            "To reduce your risk of developing kidney disease:\n",
            "thanks\n",
            "DocBot: You are Welcome!\n"
          ],
          "name": "stdout"
        }
      ]
    }
  ]
}